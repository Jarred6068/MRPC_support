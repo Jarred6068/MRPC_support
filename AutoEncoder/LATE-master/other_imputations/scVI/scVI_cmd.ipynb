{
 "cells": [
  {
   "cell_type": "markdown",
   "metadata": {},
   "source": [
    "# Use py27\n",
    "usage: `runipy scVI_cmd.ipynb`"
   ]
  },
  {
   "cell_type": "code",
   "execution_count": null,
   "metadata": {},
   "outputs": [],
   "source": [
    "%pwd"
   ]
  },
  {
   "cell_type": "markdown",
   "metadata": {},
   "source": [
    "# Import the scVI model"
   ]
  },
  {
   "cell_type": "code",
   "execution_count": null,
   "metadata": {},
   "outputs": [],
   "source": [
    "%load_ext autoreload\n",
    "%autoreload 2\n",
    "import scVI\n",
    "import tensorflow as tf\n",
    "from benchmarking import *\n",
    "from helper import *\n",
    "import numpy as np\n",
    "import time\n",
    "import pandas as pd\n",
    "import os\n",
    "import matplotlib.pyplot as plt\n",
    "from sklearn.decomposition import PCA\n",
    "from sklearn.model_selection import train_test_split\n",
    "%matplotlib inline\n",
    "\n",
    "plot_dir = 'plots'\n",
    "in_file = '~/data/cell_row/pbmc.g949_c10k.msk90.csv.gz'  # cell_row\n",
    "out_name = 'pbmc.g949_c10k.msk90'"
   ]
  },
  {
   "cell_type": "markdown",
   "metadata": {},
   "source": [
    "# Loading data"
   ]
  },
  {
   "cell_type": "code",
   "execution_count": null,
   "metadata": {},
   "outputs": [],
   "source": [
    "# pbmb (cell_row)\n",
    "df = pd.read_csv(in_file, index_col=0)\n",
    "print('input.shape', df.shape)\n",
    "expression_data =df.values\n",
    "gene_names = df.columns\n",
    "labels = df.index\n",
    "\n",
    "expression_train, expression_test, c_train, c_test = train_test_split(expression_data, labels, random_state=0)"
   ]
  },
  {
   "cell_type": "markdown",
   "metadata": {},
   "source": [
    "# Getting prior for scaling parameters"
   ]
  },
  {
   "cell_type": "code",
   "execution_count": null,
   "metadata": {},
   "outputs": [],
   "source": [
    "log_library_size = np.log(np.sum(expression_train, axis=1))\n",
    "mean, var = np.mean(log_library_size), np.var(log_library_size)"
   ]
  },
  {
   "cell_type": "markdown",
   "metadata": {},
   "source": [
    "# Loading scVI on memory"
   ]
  },
  {
   "cell_type": "code",
   "execution_count": null,
   "metadata": {},
   "outputs": [],
   "source": [
    "batch_size = 128\n",
    "learning_rate = 0.001\n",
    "epsilon = 0.01\n",
    "latent_dimension = 10\n",
    "epochs=250"
   ]
  },
  {
   "cell_type": "code",
   "execution_count": null,
   "metadata": {},
   "outputs": [],
   "source": [
    "tf.reset_default_graph()\n",
    "expression = tf.placeholder(tf.float32, (None, expression_train.shape[1]), name='x')\n",
    "kl_scalar = tf.placeholder(tf.float32, (), name='kl_scalar')\n",
    "optimizer = tf.train.AdamOptimizer(learning_rate=learning_rate, epsilon=epsilon)\n",
    "training_phase = tf.placeholder(tf.bool, (), name='training_phase')\n",
    "\n",
    "# getting priors\n",
    "log_library_size = np.log(np.sum(expression_train, axis=1))\n",
    "mean, var = np.mean(log_library_size), np.var(log_library_size)\n",
    "\n",
    "# loading data\n",
    "model = scVI.scVIModel(expression=expression, kl_scale=kl_scalar, \\\n",
    "                         optimize_algo=optimizer, phase=training_phase, \\\n",
    "                          library_size_mean=mean, library_size_var=var, n_latent=latent_dimension)\n",
    "\n",
    "#starting computing session\n",
    "sess = tf.Session()"
   ]
  },
  {
   "cell_type": "code",
   "execution_count": null,
   "metadata": {},
   "outputs": [],
   "source": [
    "# Initialize the graph and fit the training set\n",
    "# this takes less than a minute on a Tesla K80\n",
    "%time\n",
    "sess.run(tf.global_variables_initializer())\n",
    "result = train_model(model, (expression_train, expression_test), sess, epochs, batch_size=batch_size)"
   ]
  },
  {
   "cell_type": "code",
   "execution_count": null,
   "metadata": {
    "scrolled": true
   },
   "outputs": [],
   "source": [
    "plot_training_info(result)"
   ]
  },
  {
   "cell_type": "markdown",
   "metadata": {},
   "source": [
    "# Latent"
   ]
  },
  {
   "cell_type": "markdown",
   "metadata": {},
   "source": [
    "We can here sample from the latent space, you can verify that the clustering metrics are robust with respect to different samples from the variational posterior"
   ]
  },
  {
   "cell_type": "code",
   "execution_count": null,
   "metadata": {},
   "outputs": [],
   "source": [
    "dic_full = {expression: df.values, training_phase:False}\n",
    "latent = sess.run(model.z, feed_dict=dic_full)\n",
    "latent = pd.DataFrame(data=latent, index=df.index)\n",
    "print('latent.shape', latent.shape)"
   ]
  },
  {
   "cell_type": "markdown",
   "metadata": {},
   "source": [
    "# Imputation"
   ]
  },
  {
   "cell_type": "markdown",
   "metadata": {},
   "source": [
    "In the original submission, we recomplete scVI's inference on corrupted data and we evaluate how well different algorithms can recover the original information. In this notebook, we instead show how to sample the parameters of the generative model"
   ]
  },
  {
   "cell_type": "code",
   "execution_count": null,
   "metadata": {},
   "outputs": [],
   "source": [
    "dic_full = {expression: df.values, training_phase:False, kl_scalar:1.} \n",
    "\n",
    "px_rate = sess.run(model.px_rate,  feed_dict=dic_full)\n",
    "px_rate = pd.DataFrame(data=px_rate, index=df.index, columns=df.columns)\n",
    "\n",
    "px_scale = sess.run(model.px_scale,  feed_dict=dic_full)\n",
    "px_scale = pd.DataFrame(data=px_scale, index=df.index, columns=df.columns)"
   ]
  },
  {
   "cell_type": "markdown",
   "metadata": {},
   "source": [
    "+ px_scale: normalized expression level inside scVI (rho param in the paper, used for DE)\n",
    "+ px_rate: mean of the negative binomial (used for imputation)\n",
    "+ px_r: log of the dispersion parameter for every gene (used for posterior analysis)\n",
    "+ px_dropout: logit of the zero inflation mixture weight"
   ]
  },
  {
   "cell_type": "markdown",
   "metadata": {},
   "source": [
    "#  SAVE"
   ]
  },
  {
   "cell_type": "code",
   "execution_count": null,
   "metadata": {},
   "outputs": [],
   "source": [
    "print('saving csv')\n",
    "px_rate.to_csv(out_name+'.px_rate.csv')\n",
    "latent.to_csv(out_name+'.latent.csv')\n",
    "px_scale.to_csv(out_name+'.px_scale.csv')"
   ]
  }
 ],
 "metadata": {
  "kernelspec": {
   "display_name": "Python 2",
   "language": "python",
   "name": "python2"
  },
  "language_info": {
   "codemirror_mode": {
    "name": "ipython",
    "version": 2
   },
   "file_extension": ".py",
   "mimetype": "text/x-python",
   "name": "python",
   "nbconvert_exporter": "python",
   "pygments_lexer": "ipython2",
   "version": "2.7.15"
  }
 },
 "nbformat": 4,
 "nbformat_minor": 2
}
